{
 "cells": [
  {
   "cell_type": "markdown",
   "id": "4ba4712f",
   "metadata": {},
   "source": [
    "# Timing the response time for the web application"
   ]
  },
  {
   "cell_type": "code",
   "execution_count": 1,
   "id": "1dd07b7f",
   "metadata": {},
   "outputs": [],
   "source": [
    "import base64\n",
    "import time\n",
    "from io import BytesIO\n",
    "from pathlib import Path\n",
    "\n",
    "import httpx\n",
    "import numpy as np"
   ]
  },
  {
   "cell_type": "code",
   "execution_count": 2,
   "id": "ff5677bc",
   "metadata": {},
   "outputs": [],
   "source": [
    "num_attempts = 200"
   ]
  },
  {
   "cell_type": "markdown",
   "id": "06987966",
   "metadata": {},
   "source": [
    "## Timing full-text search"
   ]
  },
  {
   "cell_type": "code",
   "execution_count": 3,
   "id": "004ba5ba",
   "metadata": {},
   "outputs": [
    {
     "name": "stdout",
     "output_type": "stream",
     "text": [
      "mean: 0.289032284325 std: 0.11264474133973382\n"
     ]
    }
   ],
   "source": [
    "timings = []\n",
    "\n",
    "with httpx.Client() as client:\n",
    "    for i in range(num_attempts):\n",
    "        t0 = time.monotonic_ns()\n",
    "        client.get(\"https://dh.nb.no/run/bildesok/search?search=fyrtaarn&embedding_type=CLIP&text_embedding_type=TF-IDF\").content\n",
    "        t1 = time.monotonic_ns()\n",
    "        timings.append(t1 - t0)\n",
    "\n",
    "print(\"mean:\", 1e-9 * np.mean(timings), \"std:\", 1e-9 * np.std(timings))"
   ]
  },
  {
   "cell_type": "markdown",
   "id": "3a1c1196",
   "metadata": {},
   "source": [
    "## Timing ID-based search (using per-computed embeddings)"
   ]
  },
  {
   "cell_type": "code",
   "execution_count": 4,
   "id": "c950f263",
   "metadata": {},
   "outputs": [
    {
     "name": "stdout",
     "output_type": "stream",
     "text": [
      "mean: 0.29471211954500004 std: 0.1174948284260663\n"
     ]
    }
   ],
   "source": [
    "timings = []\n",
    "\n",
    "with httpx.Client() as client:\n",
    "    for i in range(num_attempts):\n",
    "        t0 = time.monotonic_ns()\n",
    "        client.get(\"https://dh.nb.no/run/bildesok/find_similar_images?id_=5091139e-4c7f-010f-b42d-d01bf3e069cc&embedding_type=SigLIP\").content\n",
    "        t1 = time.monotonic_ns()\n",
    "        timings.append(t1 - t0)\n",
    "\n",
    "print(\"mean:\", 1e-9 * np.mean(timings), \"std:\", 1e-9 * np.std(timings))"
   ]
  },
  {
   "cell_type": "markdown",
   "id": "80025bec",
   "metadata": {},
   "source": [
    "## Timing image uploads"
   ]
  },
  {
   "cell_type": "code",
   "execution_count": 5,
   "id": "1eed6fd7",
   "metadata": {},
   "outputs": [
    {
     "name": "stdout",
     "output_type": "stream",
     "text": [
      "mean: 2.7792418706050004 std: 0.25390381988266136\n"
     ]
    }
   ],
   "source": [
    "timings = []\n",
    "image = Path(\"../data/analysis/query_examples/1-ivar_aasen.jpg\").read_bytes()\n",
    "image_base64 = base64.b64encode(image).decode('utf-8')\n",
    "\n",
    "with httpx.Client() as client:\n",
    "    for i in range(num_attempts):\n",
    "        t0 = time.monotonic_ns()\n",
    "        client.post(\n",
    "            \"https://dh.nb.no/run/bildesok/image_upload\",\n",
    "            data={\"embedding_type\": \"SigLIP\", \"text_embedding_type\": \"TF-IDF\"},\n",
    "            files={\"image\": (\"ivar_aasen.jpg\", BytesIO(image), \"image/jpeg\")}\n",
    "        ).content\n",
    "        t1 = time.monotonic_ns()\n",
    "        timings.append(t1 - t0)\n",
    "\n",
    "print(\"mean:\", 1e-9 * np.mean(timings), \"std:\", 1e-9 * np.std(timings))"
   ]
  },
  {
   "cell_type": "code",
   "execution_count": null,
   "id": "7eb54da9",
   "metadata": {},
   "outputs": [],
   "source": []
  }
 ],
 "metadata": {
  "kernelspec": {
   "display_name": "Python 3 (ipykernel)",
   "language": "python",
   "name": "python3"
  },
  "language_info": {
   "codemirror_mode": {
    "name": "ipython",
    "version": 3
   },
   "file_extension": ".py",
   "mimetype": "text/x-python",
   "name": "python",
   "nbconvert_exporter": "python",
   "pygments_lexer": "ipython3",
   "version": "3.11.7"
  }
 },
 "nbformat": 4,
 "nbformat_minor": 5
}
